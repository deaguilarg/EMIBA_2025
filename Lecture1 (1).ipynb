{
 "cells": [
  {
   "cell_type": "markdown",
   "id": "29b2c2e9-1c19-4f4c-9cd7-eaeced921884",
   "metadata": {
    "tags": []
   },
   "source": [
    "# Lecture 1:\n",
    "Create a function:\n",
    "\n",
    "    That has 2 inputs\n",
    "    Where both inputs are numbers\n",
    "    Where you check whether the first input is larger than 3\n",
    "    \n",
    "    If it is: Return the sum of both numbers\n",
    "    If it is lower than 3: Return the subtraction of both\n",
    "    Else (When it is equal to 3): return the multiplication of both numbers\n"
   ]
  },
  {
   "cell_type": "code",
   "execution_count": 20,
   "id": "f99c5ab5-2f41-41c6-aa1b-1a24aaee479b",
   "metadata": {
    "tags": []
   },
   "outputs": [],
   "source": [
    "def myFunction(a, b):\n",
    "    if a > 3:\n",
    "        result = \"La suma de a + b es: \" + str(a + b)\n",
    "    elif a < 3:\n",
    "        result = \"La resta de a - b es: \" + str(a - b)\n",
    "    else:\n",
    "        result = \"La multiplicación de a * b es: \" + str(a * b)\n",
    "    return result"
   ]
  },
  {
   "cell_type": "code",
   "execution_count": null,
   "id": "81628752-e35c-431d-94b4-0b77748eac30",
   "metadata": {
    "tags": []
   },
   "outputs": [],
   "source": [
    "try:\n",
    "    a = int(input(\"Ingrese el primer número: \"))\n",
    "    b = int(input(\"Ingrese el segundo número: \"))\n",
    "    print(myFunction(a, b))\n",
    "except Exception as e:\n",
    "    print(\"Favor ingresar números...\" + str(e))"
   ]
  }
 ],
 "metadata": {
  "environment": {
   "kernel": "conda-base-py",
   "name": "workbench-notebooks.m123",
   "type": "gcloud",
   "uri": "us-docker.pkg.dev/deeplearning-platform-release/gcr.io/workbench-notebooks:m123"
  },
  "kernelspec": {
   "display_name": "Python 3 (ipykernel) (Local)",
   "language": "python",
   "name": "conda-base-py"
  },
  "language_info": {
   "codemirror_mode": {
    "name": "ipython",
    "version": 3
   },
   "file_extension": ".py",
   "mimetype": "text/x-python",
   "name": "python",
   "nbconvert_exporter": "python",
   "pygments_lexer": "ipython3",
   "version": "3.10.14"
  }
 },
 "nbformat": 4,
 "nbformat_minor": 5
}
